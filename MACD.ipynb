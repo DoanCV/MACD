{
  "nbformat": 4,
  "nbformat_minor": 0,
  "metadata": {
    "colab": {
      "name": "MACD.ipynb",
      "provenance": []
    },
    "kernelspec": {
      "name": "python3",
      "display_name": "Python 3"
    }
  },
  "cells": [
    {
      "cell_type": "code",
      "metadata": {
        "id": "BXuAUBu03VMB",
        "outputId": "f9a72ded-d147-465e-f9d5-74353e5153fa",
        "colab": {
          "base_uri": "https://localhost:8080/"
        }
      },
      "source": [
        "# Install libraries\n",
        "!pip install yfinance\n",
        "!pip install get-all-tickers\n",
        "\n",
        "import yfinance as yf, pandas as pd, numpy as np, shutil, time\n",
        "import requests\n",
        "from get_all_tickers import get_tickers as gt\n",
        "from statistics import mean"
      ],
      "execution_count": null,
      "outputs": [
        {
          "output_type": "stream",
          "text": [
            "Requirement already satisfied: yfinance in /usr/local/lib/python3.6/dist-packages (0.1.55)\n",
            "Requirement already satisfied: requests>=2.20 in /usr/local/lib/python3.6/dist-packages (from yfinance) (2.23.0)\n",
            "Requirement already satisfied: numpy>=1.15 in /usr/local/lib/python3.6/dist-packages (from yfinance) (1.18.5)\n",
            "Requirement already satisfied: pandas>=0.24 in /usr/local/lib/python3.6/dist-packages (from yfinance) (1.1.4)\n",
            "Requirement already satisfied: multitasking>=0.0.7 in /usr/local/lib/python3.6/dist-packages (from yfinance) (0.0.9)\n",
            "Requirement already satisfied: lxml>=4.5.1 in /usr/local/lib/python3.6/dist-packages (from yfinance) (4.6.1)\n",
            "Requirement already satisfied: certifi>=2017.4.17 in /usr/local/lib/python3.6/dist-packages (from requests>=2.20->yfinance) (2020.6.20)\n",
            "Requirement already satisfied: idna<3,>=2.5 in /usr/local/lib/python3.6/dist-packages (from requests>=2.20->yfinance) (2.10)\n",
            "Requirement already satisfied: chardet<4,>=3.0.2 in /usr/local/lib/python3.6/dist-packages (from requests>=2.20->yfinance) (3.0.4)\n",
            "Requirement already satisfied: urllib3!=1.25.0,!=1.25.1,<1.26,>=1.21.1 in /usr/local/lib/python3.6/dist-packages (from requests>=2.20->yfinance) (1.24.3)\n",
            "Requirement already satisfied: python-dateutil>=2.7.3 in /usr/local/lib/python3.6/dist-packages (from pandas>=0.24->yfinance) (2.8.1)\n",
            "Requirement already satisfied: pytz>=2017.2 in /usr/local/lib/python3.6/dist-packages (from pandas>=0.24->yfinance) (2018.9)\n",
            "Requirement already satisfied: six>=1.5 in /usr/local/lib/python3.6/dist-packages (from python-dateutil>=2.7.3->pandas>=0.24->yfinance) (1.15.0)\n",
            "Requirement already satisfied: get-all-tickers in /usr/local/lib/python3.6/dist-packages (1.7)\n",
            "Requirement already satisfied: requests in /usr/local/lib/python3.6/dist-packages (from get-all-tickers) (2.23.0)\n",
            "Requirement already satisfied: pandas in /usr/local/lib/python3.6/dist-packages (from get-all-tickers) (1.1.4)\n",
            "Requirement already satisfied: idna<3,>=2.5 in /usr/local/lib/python3.6/dist-packages (from requests->get-all-tickers) (2.10)\n",
            "Requirement already satisfied: chardet<4,>=3.0.2 in /usr/local/lib/python3.6/dist-packages (from requests->get-all-tickers) (3.0.4)\n",
            "Requirement already satisfied: urllib3!=1.25.0,!=1.25.1,<1.26,>=1.21.1 in /usr/local/lib/python3.6/dist-packages (from requests->get-all-tickers) (1.24.3)\n",
            "Requirement already satisfied: certifi>=2017.4.17 in /usr/local/lib/python3.6/dist-packages (from requests->get-all-tickers) (2020.6.20)\n",
            "Requirement already satisfied: numpy>=1.15.4 in /usr/local/lib/python3.6/dist-packages (from pandas->get-all-tickers) (1.18.5)\n",
            "Requirement already satisfied: python-dateutil>=2.7.3 in /usr/local/lib/python3.6/dist-packages (from pandas->get-all-tickers) (2.8.1)\n",
            "Requirement already satisfied: pytz>=2017.2 in /usr/local/lib/python3.6/dist-packages (from pandas->get-all-tickers) (2018.9)\n",
            "Requirement already satisfied: six>=1.5 in /usr/local/lib/python3.6/dist-packages (from python-dateutil>=2.7.3->pandas->get-all-tickers) (1.15.0)\n"
          ],
          "name": "stdout"
        }
      ]
    },
    {
      "cell_type": "code",
      "metadata": {
        "id": "L8FZWSYd4L9I",
        "outputId": "fea8e2f2-10b9-409a-8075-60e2c0263432",
        "colab": {
          "base_uri": "https://localhost:8080/"
        }
      },
      "source": [
        "# List of tickers (keep format consistent)\n",
        "tickers = [\"FB\", \"AMZN\"]\n",
        "print(\"Number of stocks to observe: \" + str(len(tickers)))"
      ],
      "execution_count": 15,
      "outputs": [
        {
          "output_type": "stream",
          "text": [
            "Number of stocks to observe: 2\n"
          ],
          "name": "stdout"
        }
      ]
    },
    {
      "cell_type": "code",
      "metadata": {
        "id": "5dwDXLtD5e2H",
        "outputId": "c633395d-c31f-4ef7-af92-684a57e9815f",
        "colab": {
          "base_uri": "https://localhost:8080/"
        }
      },
      "source": [
        "# Limit API calls on one ticker that could be having issues\n",
        "Amount_of_API_Calls = 0\n",
        "Stock_Failure = 0\n",
        "Stocks_Not_Imported = 0\n",
        "\n",
        "index = 0\n",
        "while (index < len(tickers)) and (Amount_of_API_Calls < 1800): #Cap the number of calls otherwise IP gets blocked for pulling too much data\n",
        "    try:\n",
        "        print(\"Iteration = \" + str(index))\n",
        "        stock = tickers[index]  # Gets the current stock ticker\n",
        "        temp = yf.Ticker(str(stock))\n",
        "        Hist_data = temp.history(period=\"max\")  # Get historical data\n",
        "        time.sleep(2)  # Each ticker has 2 second puase since there is a limit for pulling data\n",
        "        Amount_of_API_Calls += 1 \n",
        "        Stock_Failure = 0\n",
        "        index += 1  \n",
        "    except ValueError:\n",
        "        print(\"Yahoo Finance Backend Error, trying to pull data again\")  \n",
        "        if Stock_Failure > 5:  # Move on to the next ticker if the current ticker fails more than 5 times\n",
        "            index += 1\n",
        "            Stocks_Not_Imported += 1\n",
        "        Amount_of_API_Calls += 1\n",
        "        Stock_Failure += 1\n",
        "    # Handle SSL error\n",
        "    except requests.exceptions.SSLError as e:\n",
        "        print(\"Yahoo Finance Backend Error, trying to pull data again\")  # An error occured on Yahoo Finance's backend. We will attempt to retreive the data again\n",
        "        if Stock_Failure > 5:  \n",
        "            index += 1\n",
        "            Stocks_Not_Imported += 1\n",
        "        Amount_of_API_Calls += 1\n",
        "        Stock_Failure += 1\n",
        "\n",
        "print(\"The amount of stocks we successfully imported: \" + str(index - Stocks_Not_Imported))"
      ],
      "execution_count": 20,
      "outputs": [
        {
          "output_type": "stream",
          "text": [
            "Iteration = 0\n",
            "Iteration = 1\n",
            "The amount of stocks we successfully imported: 2\n"
          ],
          "name": "stdout"
        }
      ]
    },
    {
      "cell_type": "code",
      "metadata": {
        "id": "w4PTbQme3Kp0"
      },
      "source": [
        "# Create the dataframe that we will be adding the final analysis of each stock to\n",
        "Compare_Stocks = pd.DataFrame(columns=[\"Company\", \"Days_Observed\", \"Crosses\", \"True_Positive\", \"False_Positive\", \"True_Negative\", \"False_Negative\", \"Sensitivity\", \n",
        "\"Specificity\", \"Accuracy\", \"TPR\", \"FPR\"])\n",
        "\n",
        "count = 0\n",
        "for stock in list_files:\n",
        "    # Dataframe to hold the historical data of the stock we are interested in.\n",
        "    Hist_data = pd.read_csv(stock)\n",
        "\n",
        "    # Initialization\n",
        "    Days_Observed = 0\n",
        "    Crosses = 0\n",
        "    True_Positive = 0\n",
        "    False_Positive = 0\n",
        "    True_Negative = 0\n",
        "    False_Negative = 0\n",
        "    Sensitivity = 0\n",
        "    Specificity = 0\n",
        "    Accuracy = 0\n",
        "    prices = []\n",
        "\n",
        "    c = 0\n",
        "    # Add the closing prices to the prices list to start at more than 2 dollars to reduce outlier interference\n",
        "    while c < len(Hist_data):\n",
        "        if Hist_data.iloc[c,4] > float(2.00):  \n",
        "            prices.append(Hist_data.iloc[c,4])\n",
        "        c += 1\n",
        "\n",
        "    # Make a dataframe for price list\n",
        "    prices_df = pd.DataFrame(prices) \n",
        "\n",
        "    # Calculate exponentialy weighted moving averages\n",
        "    day12 = prices_df.ewm(span=12).mean()  \n",
        "    day26 = prices_df.ewm(span=26).mean()\n",
        "    macd = []  # Holds the MACD line values\n",
        "\n",
        "    counter=0  # Loop to substantiate the MACD line\n",
        "    while counter < (len(day12)):\n",
        "        macd.append(day12.iloc[counter,0] - day26.iloc[counter,0])  # Subtract the 26 day EW moving average from the 12 day.\n",
        "        counter += 1\n",
        "    macd_df = pd.DataFrame(macd)\n",
        "    signal_df = macd_df.ewm(span=9).mean() # Create the signal line, which is a 9 day EW moving average\n",
        "    signal = signal_df.values.tolist()  # Add the signal line values to a list.\n",
        "    \n",
        "    #  Loop to Compare the expected MACD crosses results to the actual results\n",
        "    Day = 1\n",
        "    while Day < len(macd)-5:  # Subtract 5 to look at the 5 day post average\n",
        "        Prev_Day = Day-1      # Subtract 1 to use the last day for prediction\n",
        "\n",
        "        # Decisions are based on a 5 day average\n",
        "        Avg_Closing_Next_Days = (prices[Day+1] + prices[Day+2] + prices[Day+3] + prices[Day+4] + prices[Day+5])/5 \n",
        "        \n",
        "        Days_Observed += 1  # Count how many days were observed\n",
        "        if ((signal[Prev_Day] > macd[Prev_Day]) and (signal[Day] <= macd[Day])):  # Check if the signal line dips below the MACD line (Expected increase over the next x days)\n",
        "            Crosses += 1   # register that a cross occurred\n",
        "            if (prices[Day] < Avg_Closing_Next_Days):  # Tests if the price increases over the next x days\n",
        "                True_Positive += 1\n",
        "            else:\n",
        "                False_Negative += 1\n",
        "\n",
        "        if ((signal[Prev_Day] < macd[Prev_Day]) and (signal[Day] >= macd[Day])): # Check if the signal line moves above the MACD line (Expected dip over the next x days)\n",
        "            Crosses += 1\n",
        "            if (prices[Day] > Avg_Closing_Next_Days):  # Tests if the price decreases over the next x days\n",
        "                True_Negative += 1\n",
        "            else:\n",
        "                False_Positive += 1\n",
        "        Day += 1\n",
        "    try:\n",
        "        Sensitivity = (True_Positive / (True_Positive + False_Negative)) # Calculate sensitivity\n",
        "    except ZeroDivisionError:  # Catch the divide by zero error\n",
        "        Sensitivity = 0\n",
        "    try:\n",
        "        Specificity = (True_Negative / (True_Negative + False_Positive)) # Calculate specificity\n",
        "    except ZeroDivisionError:\n",
        "        Specificity\n",
        "    try:\n",
        "        Accuracy = (True_Positive + True_Negative) / (True_Negative + True_Positive + False_Positive + False_Negative) # Calculate accuracy\n",
        "    except ZeroDivisionError:\n",
        "        Accuracy = 0\n",
        "\n",
        "    TPR = Sensitivity  # Calculate the true positive rate\n",
        "    FPR = 1 - Specificity  # Calculate the false positive rate\n",
        "\n",
        "    # Dictionary of observation parameters\n",
        "    add_row = {'Company' : Company, 'Days_Observed' : Days_Observed, 'Crosses' : Crosses, 'True_Positive' : True_Positive, 'False_Positive' : False_Positive, \n",
        "    'True_Negative' : True_Negative, 'False_Negative' : False_Negative, 'Sensitivity' : Sensitivity, 'Specificity' : Specificity, 'Accuracy' : Accuracy, 'TPR' : TPR, 'FPR' : FPR} \n",
        "\n",
        "    # Add the parameters as features of the stock\n",
        "    Compare_Stocks = Compare_Stocks.append(add_row, ignore_index = True) \n",
        "    count += 1"
      ],
      "execution_count": 21,
      "outputs": []
    },
    {
      "cell_type": "code",
      "metadata": {
        "id": "h2egq6pPbV2f"
      },
      "source": [
        "# Delete stocks that don't have enough crosses observed (currently capped at 100)\n",
        "Not_Enough_Records = []  \n",
        "row = 0\n",
        "while row < (len(Compare_Stocks)):\n",
        "    if Compare_Stocks.iloc[row, 2] < 100:\n",
        "        Not_Enough_Records.append(row)  \n",
        "    row += 1\n",
        "\n",
        "# Remove records that do not have enough crosses\n",
        "Compare_Stocks = Compare_Stocks.drop(Not_Enough_Records)  \n",
        "\n",
        "Avg_Accuracy = []  \n",
        "i=0\n",
        "while i < (len(Compare_Stocks)):\n",
        "    Avg_Accuracy.append(Compare_Stocks.iloc[i,9])\n",
        "    i += 1"
      ],
      "execution_count": 22,
      "outputs": []
    },
    {
      "cell_type": "code",
      "metadata": {
        "id": "b9L9jwneb_Fl",
        "outputId": "3e54c5cf-95f6-4bf3-a538-a5e7b4e01cd0",
        "colab": {
          "base_uri": "https://localhost:8080/"
        }
      },
      "source": [
        "# Create a dataframe to rank and sort the stocks by their accuracy\n",
        "df = Compare_Stocks[['Company','Days_Observed', 'Crosses', 'True_Positive', 'False_Positive', 'True_Negative', 'False_Negative', 'Sensitivity', 'Specificity', 'TPR', 'FPR', 'Accuracy']]\n",
        "df[\"Companies_Ranked\"] = df[\"Accuracy\"].rank(ascending = False)  \n",
        "df.sort_values(\"Accuracy\", inplace = True, ascending = False)  \n",
        "\n",
        "# Average accuracy\n",
        "from statistics import mean\n",
        "print(\"The average accuracy of all stocks observed: \" + str(mean(Avg_Accuracy)))  "
      ],
      "execution_count": 23,
      "outputs": [
        {
          "output_type": "stream",
          "text": [
            "The average accuracy of all stocks observed: 0.5240465416936005\n"
          ],
          "name": "stdout"
        },
        {
          "output_type": "stream",
          "text": [
            "/usr/local/lib/python3.6/dist-packages/ipykernel_launcher.py:3: SettingWithCopyWarning: \n",
            "A value is trying to be set on a copy of a slice from a DataFrame.\n",
            "Try using .loc[row_indexer,col_indexer] = value instead\n",
            "\n",
            "See the caveats in the documentation: https://pandas.pydata.org/pandas-docs/stable/user_guide/indexing.html#returning-a-view-versus-a-copy\n",
            "  This is separate from the ipykernel package so we can avoid doing imports until\n",
            "/usr/local/lib/python3.6/dist-packages/ipykernel_launcher.py:4: SettingWithCopyWarning: \n",
            "A value is trying to be set on a copy of a slice from a DataFrame\n",
            "\n",
            "See the caveats in the documentation: https://pandas.pydata.org/pandas-docs/stable/user_guide/indexing.html#returning-a-view-versus-a-copy\n",
            "  after removing the cwd from sys.path.\n"
          ],
          "name": "stderr"
        }
      ]
    }
  ]
}